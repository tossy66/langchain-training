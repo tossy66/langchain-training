{
  "nbformat": 4,
  "nbformat_minor": 0,
  "metadata": {
    "colab": {
      "provenance": [],
      "include_colab_link": true
    },
    "kernelspec": {
      "name": "python3",
      "display_name": "Python 3"
    },
    "language_info": {
      "name": "python"
    }
  },
  "cells": [
    {
      "cell_type": "markdown",
      "metadata": {
        "id": "view-in-github",
        "colab_type": "text"
      },
      "source": [
        "<a href=\"https://colab.research.google.com/github/tossy66/langchain-training/blob/main/chapter3/langchain_basics.ipynb\" target=\"_parent\"><img src=\"https://colab.research.google.com/assets/colab-badge.svg\" alt=\"Open In Colab\"/></a>"
      ]
    },
    {
      "cell_type": "markdown",
      "source": [
        "# Section 0: ハンズオンの準備\n",
        "---"
      ],
      "metadata": {
        "id": "2SXS3qjHO5J9"
      }
    },
    {
      "cell_type": "markdown",
      "source": [
        "## 必要なライブラリのインストール"
      ],
      "metadata": {
        "id": "Atc5HQiZ58vA"
      }
    },
    {
      "cell_type": "code",
      "source": [
        "# !pip install -q langchain langchain-core langchain-text-splitters"
      ],
      "metadata": {
        "id": "xNJhQoCptr7m"
      },
      "execution_count": 1,
      "outputs": []
    },
    {
      "cell_type": "code",
      "source": [
        "!pip install -q langchain-openai langchain-community"
      ],
      "metadata": {
        "id": "5L-ErUJuMtEx",
        "colab": {
          "base_uri": "https://localhost:8080/"
        },
        "outputId": "ab3613ef-2f10-44b6-ed23-071cfac9aab2"
      },
      "execution_count": 2,
      "outputs": [
        {
          "output_type": "stream",
          "name": "stdout",
          "text": [
            "\u001b[2K   \u001b[90m━━━━━━━━━━━━━━━━━━━━━━━━━━━━━━━━━━━━━━━━\u001b[0m \u001b[32m70.6/70.6 kB\u001b[0m \u001b[31m879.2 kB/s\u001b[0m eta \u001b[36m0:00:00\u001b[0m\n",
            "\u001b[2K   \u001b[90m━━━━━━━━━━━━━━━━━━━━━━━━━━━━━━━━━━━━━━━━\u001b[0m \u001b[32m2.5/2.5 MB\u001b[0m \u001b[31m9.1 MB/s\u001b[0m eta \u001b[36m0:00:00\u001b[0m\n",
            "\u001b[2K   \u001b[90m━━━━━━━━━━━━━━━━━━━━━━━━━━━━━━━━━━━━━━━━\u001b[0m \u001b[32m45.2/45.2 kB\u001b[0m \u001b[31m1.1 MB/s\u001b[0m eta \u001b[36m0:00:00\u001b[0m\n",
            "\u001b[2K   \u001b[90m━━━━━━━━━━━━━━━━━━━━━━━━━━━━━━━━━━━━━━━━\u001b[0m \u001b[32m50.9/50.9 kB\u001b[0m \u001b[31m3.4 MB/s\u001b[0m eta \u001b[36m0:00:00\u001b[0m\n",
            "\u001b[?25h"
          ]
        }
      ]
    },
    {
      "cell_type": "code",
      "source": [
        "!pip freeze | grep langchain"
      ],
      "metadata": {
        "id": "15QyqnKk1CTN",
        "colab": {
          "base_uri": "https://localhost:8080/"
        },
        "outputId": "0fb3343b-dd50-46dd-ee4a-9d990f90280c"
      },
      "execution_count": 4,
      "outputs": [
        {
          "output_type": "stream",
          "name": "stdout",
          "text": [
            "langchain==0.3.26\n",
            "langchain-community==0.3.27\n",
            "langchain-core==0.3.68\n",
            "langchain-openai==0.3.28\n",
            "langchain-text-splitters==0.3.8\n"
          ]
        }
      ]
    },
    {
      "cell_type": "markdown",
      "source": [
        "## API キーの設定\n",
        "*  左ナビゲーションで [**シークレット**] アイコン (鍵形のアイコン) をクリックします。\n",
        "*  [**新しいシークレットを追加**] をクリックし、[**名前**] に `OPENAI_API_KEY` と入力し、その [**値**] に指定されたキーを入力します。\n",
        "*  [**新しいシークレットを追加**] をクリックし、[**名前**] に `LANGCHAIN_API_KEY` と入力し、その [**値**] に LangSmith で作成してコピーしておいた API キーを入力します。\n",
        "*  設定した 2 つのシークレットの [**ノートブックからのアクセス**] を有効にします。\n",
        "*  入力が完了したら、下のセルを実行します。"
      ],
      "metadata": {
        "id": "AzQOWZ8y6KU-"
      }
    },
    {
      "cell_type": "code",
      "execution_count": 5,
      "metadata": {
        "id": "r3-Ha_aLspoO"
      },
      "outputs": [],
      "source": [
        "import os\n",
        "from google.colab import userdata\n",
        "\n",
        "os.environ[\"LANGCHAIN_TRACING_V2\"] = \"true\"\n",
        "os.environ[\"LANGCHAIN_PROJECT\"] = \"default\"\n",
        "os.environ[\"LANGCHAIN_ENDPOINT\"] = \"https://api.smith.langchain.com\"\n",
        "os.environ[\"LANGCHAIN_API_KEY\"] = userdata.get('LANGCHAIN_API_KEY')\n",
        "\n",
        "os.environ[\"OPENAI_API_KEY\"] = userdata.get('OPENAI_API_KEY')"
      ]
    },
    {
      "cell_type": "markdown",
      "source": [
        "# Section 1: LangChain の基本\n",
        "---"
      ],
      "metadata": {
        "id": "5S-7iYdsiIrI"
      }
    },
    {
      "cell_type": "markdown",
      "source": [
        "## LLMs\n",
        "https://python.langchain.com/docs/concepts/#llms  "
      ],
      "metadata": {
        "id": "IORhWlqn8Fgl"
      }
    },
    {
      "cell_type": "markdown",
      "source": [
        "[langchain_openai.llms.base.OpenAI](https://python.langchain.com/api_reference/openai/llms/langchain_openai.llms.base.OpenAI.html)"
      ],
      "metadata": {
        "id": "O8mtRsNxExM1"
      }
    },
    {
      "cell_type": "code",
      "execution_count": 6,
      "metadata": {
        "id": "WY3sdyngepk-",
        "colab": {
          "base_uri": "https://localhost:8080/"
        },
        "outputId": "1ab500ab-53ec-49bc-d82a-5362fc554f0c"
      },
      "outputs": [
        {
          "output_type": "stream",
          "name": "stdout",
          "text": [
            "\n",
            "\n",
            "私は山田太郎と申します。東京出身で、現在は大学生として都内の大学に通っています。趣味は読書や映画鑑賞、旅行などです。また、大学では国際関係を専攻しており、将来は国際的な仕事に携わりたいと考えています。人とのコミュニケーションが得意で、チームでの活動やリーダーシップを取ることが好きです。今後も自分を磨き、社会に貢献できるよう努力していきたいと思っています。よろしくお願いします。\n"
          ]
        }
      ],
      "source": [
        "from langchain_openai import OpenAI\n",
        "\n",
        "llm = OpenAI(model=\"gpt-3.5-turbo-instruct\", temperature=0)\n",
        "\n",
        "result = llm.invoke(\"自己紹介してください。\")\n",
        "print(result)"
      ]
    },
    {
      "cell_type": "markdown",
      "source": [
        "\n",
        "\n",
        "*   LLM モデルは文字列を入力として受け取り、文字列を出力する。\n",
        "*   単純な一問一答の場合に使用する。\n",
        "*   この程度であれば、LnagChain を使う意味はあまりない。\n",
        "\n"
      ],
      "metadata": {
        "id": "hNXYD6YlAN_w"
      }
    },
    {
      "cell_type": "markdown",
      "source": [
        "## Chat models\n",
        "https://python.langchain.com/docs/concepts/#chat-models"
      ],
      "metadata": {
        "id": "zonwWRVNFPmh"
      }
    },
    {
      "cell_type": "markdown",
      "source": [
        "[langchain_openai.chat_models.base.ChatOpenAI](https://python.langchain.com/api_reference/openai/chat_models/langchain_openai.chat_models.base.ChatOpenAI.html)"
      ],
      "metadata": {
        "id": "0IR1R8m9FAbo"
      }
    },
    {
      "cell_type": "code",
      "source": [
        "from langchain_openai import ChatOpenAI\n",
        "from langchain_core.messages import HumanMessage, SystemMessage\n",
        "\n",
        "model = ChatOpenAI(model=\"gpt-4o-mini\", temperature=0.1)"
      ],
      "metadata": {
        "id": "zVzLWK95zWa9"
      },
      "execution_count": 7,
      "outputs": []
    },
    {
      "cell_type": "code",
      "source": [
        "messages = [\n",
        "    SystemMessage(content=\"以下の日本語を英語に翻訳してください。\"),\n",
        "    HumanMessage(content=\"こんにちは!\"),\n",
        "]\n",
        "\n",
        "response = model.invoke(messages)\n",
        "response"
      ],
      "metadata": {
        "id": "7ORh4L5uz4-p",
        "colab": {
          "base_uri": "https://localhost:8080/"
        },
        "outputId": "818c9356-a214-49da-abdb-06a56f7a34f1"
      },
      "execution_count": 8,
      "outputs": [
        {
          "output_type": "execute_result",
          "data": {
            "text/plain": [
              "AIMessage(content='Hello!', additional_kwargs={'refusal': None}, response_metadata={'token_usage': {'completion_tokens': 2, 'prompt_tokens': 25, 'total_tokens': 27, 'completion_tokens_details': {'accepted_prediction_tokens': 0, 'audio_tokens': 0, 'reasoning_tokens': 0, 'rejected_prediction_tokens': 0}, 'prompt_tokens_details': {'audio_tokens': 0, 'cached_tokens': 0}}, 'model_name': 'gpt-4o-mini-2024-07-18', 'system_fingerprint': None, 'id': 'chatcmpl-BuAO8qy7Uk8FYGojR2rMvf0PnR9K1', 'service_tier': 'default', 'finish_reason': 'stop', 'logprobs': None}, id='run--4fb1e23d-23f4-48b6-a3d4-fd8734615df4-0', usage_metadata={'input_tokens': 25, 'output_tokens': 2, 'total_tokens': 27, 'input_token_details': {'audio': 0, 'cache_read': 0}, 'output_token_details': {'audio': 0, 'reasoning': 0}})"
            ]
          },
          "metadata": {},
          "execution_count": 8
        }
      ]
    },
    {
      "cell_type": "markdown",
      "source": [
        "*   Chat Model は Message のリストを入力として受け取り、Message を出力する。\n",
        "*   Message は `role` `content` `response_metadata` を属性として持つ。\n",
        "*   LangChain の `SystemMessage` `HumanMessage` `AIMessage` は、それぞれ Chat Completions API の `role: \"system\"` `role: \"user\"` `role: \"assistant\"` に対応している。\n",
        "\n",
        "```\n",
        "{\n",
        "  \"model\": \"gpt-4o-mini\"\n",
        "  \"messages\": [\n",
        "    {\"role\": \"system\", \"content\": \"You are a helpful assistant.\"},\n",
        "    {\"role\": \"user\", \"content\": \"こんにちは！私はジョンと言います！\"},\n",
        "    {\"role\": \"assistant\": \"content\": \"こんにちは、ジョンさん！どのようにお手伝いできますか？\"},\n",
        "    {\"role\": \"user\": \"content\": \"私の名前がわかりますか？\"}\n",
        "  ],\n",
        "  (省略)\n",
        "}\n",
        "```\n",
        "\n"
      ],
      "metadata": {
        "id": "JADpgp_ND_wj"
      }
    },
    {
      "cell_type": "markdown",
      "source": [
        "### `response` の内容を表示する"
      ],
      "metadata": {
        "id": "X079PwDdjiuC"
      }
    },
    {
      "cell_type": "code",
      "source": [
        "print(response)"
      ],
      "metadata": {
        "id": "jX-v8dQs9d1H",
        "colab": {
          "base_uri": "https://localhost:8080/"
        },
        "outputId": "a8b47462-a8da-422a-d830-16b106bda67c"
      },
      "execution_count": 9,
      "outputs": [
        {
          "output_type": "stream",
          "name": "stdout",
          "text": [
            "content='Hello!' additional_kwargs={'refusal': None} response_metadata={'token_usage': {'completion_tokens': 2, 'prompt_tokens': 25, 'total_tokens': 27, 'completion_tokens_details': {'accepted_prediction_tokens': 0, 'audio_tokens': 0, 'reasoning_tokens': 0, 'rejected_prediction_tokens': 0}, 'prompt_tokens_details': {'audio_tokens': 0, 'cached_tokens': 0}}, 'model_name': 'gpt-4o-mini-2024-07-18', 'system_fingerprint': None, 'id': 'chatcmpl-BuAO8qy7Uk8FYGojR2rMvf0PnR9K1', 'service_tier': 'default', 'finish_reason': 'stop', 'logprobs': None} id='run--4fb1e23d-23f4-48b6-a3d4-fd8734615df4-0' usage_metadata={'input_tokens': 25, 'output_tokens': 2, 'total_tokens': 27, 'input_token_details': {'audio': 0, 'cache_read': 0}, 'output_token_details': {'audio': 0, 'reasoning': 0}}\n"
          ]
        }
      ]
    },
    {
      "cell_type": "markdown",
      "source": [
        "### `content` だけを表示する"
      ],
      "metadata": {
        "id": "o66B12iCjxIj"
      }
    },
    {
      "cell_type": "code",
      "source": [
        "print(response.content)"
      ],
      "metadata": {
        "id": "eyHT8gGF992D",
        "colab": {
          "base_uri": "https://localhost:8080/"
        },
        "outputId": "c56302fd-e1bb-48f7-8ac3-eb1f714ef6b4"
      },
      "execution_count": 10,
      "outputs": [
        {
          "output_type": "stream",
          "name": "stdout",
          "text": [
            "Hello!\n"
          ]
        }
      ]
    },
    {
      "cell_type": "markdown",
      "source": [
        "### 会話の履歴を入力に含める"
      ],
      "metadata": {
        "id": "_FEnjNQrkCX3"
      }
    },
    {
      "cell_type": "code",
      "source": [
        "from langchain_openai import ChatOpenAI\n",
        "from langchain_core.messages import AIMessage, HumanMessage, SystemMessage\n",
        "\n",
        "model = ChatOpenAI(model=\"gpt-4o-mini\", temperature=0)\n",
        "\n",
        "messages = [\n",
        "    SystemMessage(content=\"You are a helpful assistant.\"),\n",
        "    HumanMessage(content=\"こんにちは！私はジョンと言います！\"),\n",
        "    AIMessage(content=\"こんにちは、ジョンさん！どのようにお手伝いできますか？\"),\n",
        "    HumanMessage(content= \"私の名前が分かりますか？\")\n",
        "]\n",
        "\n",
        "result = model.invoke(messages)\n",
        "print(result.content)"
      ],
      "metadata": {
        "id": "ZLmolvlAF3IA",
        "colab": {
          "base_uri": "https://localhost:8080/"
        },
        "outputId": "3796373c-4365-4d01-9be8-48c08c40a8be"
      },
      "execution_count": 11,
      "outputs": [
        {
          "output_type": "stream",
          "name": "stdout",
          "text": [
            "はい、あなたの名前はジョンさんです。何か特別なことについてお話ししたいですか？\n"
          ]
        }
      ]
    },
    {
      "cell_type": "markdown",
      "source": [
        "\n",
        "\n",
        "*   `AIMessage` を入力に含めることができる。\n",
        "*   AI の回答も含めた過去の会話履歴を入力に含めることによって、会話を継続することができる (後述)。\n",
        "\n"
      ],
      "metadata": {
        "id": "8Pap0kN1G8uJ"
      }
    },
    {
      "cell_type": "markdown",
      "source": [
        "OpenAI 以外にも、様々な Chat model を利用することができる。  \n",
        "https://python.langchain.com/docs/integrations/chat/"
      ],
      "metadata": {
        "id": "urufYqNHELt7"
      }
    },
    {
      "cell_type": "markdown",
      "source": [
        "## Prompt templates\n",
        "プロンプトをテンプレート化しておき、ユーザーの入力で補完してプロンプトを作成する際に使用する。  \n",
        "https://python.langchain.com/docs/concepts/prompt_templates/\n"
      ],
      "metadata": {
        "id": "6M977dOaNgtt"
      }
    },
    {
      "cell_type": "markdown",
      "source": [
        "### StringPromptTemplate\n",
        "- LLM への単純な入力に使用する。  \n",
        "- 単一の文字列としてプロンプトを作成する際に使用する。  \n",
        "[langchain_core.prompts.prompt.PromptTemplate](https://python.langchain.com/api_reference/core/prompts/langchain_core.prompts.prompt.PromptTemplate.html)"
      ],
      "metadata": {
        "id": "mlS7tY6CPq1d"
      }
    },
    {
      "cell_type": "code",
      "source": [
        "from langchain_core.prompts import PromptTemplate"
      ],
      "metadata": {
        "id": "hyPrlHda8p3M"
      },
      "execution_count": 12,
      "outputs": []
    },
    {
      "cell_type": "code",
      "source": [
        "prompt_template = PromptTemplate.from_template(\"\"\"以下の料理のレシピを考えてください。\n",
        "\n",
        "料理名: {dish}\"\"\")\n",
        "\n",
        "prompt = prompt_template.invoke({\"dish\": \"カレー\"})\n",
        "prompt\n",
        "# print(prompt.text)"
      ],
      "metadata": {
        "id": "ZhK_HfK5TcS-",
        "colab": {
          "base_uri": "https://localhost:8080/"
        },
        "outputId": "98f52264-186f-4d4a-99cf-124054b53df1"
      },
      "execution_count": 13,
      "outputs": [
        {
          "output_type": "execute_result",
          "data": {
            "text/plain": [
              "StringPromptValue(text='以下の料理のレシピを考えてください。\\n\\n料理名: カレー')"
            ]
          },
          "metadata": {},
          "execution_count": 13
        }
      ]
    },
    {
      "cell_type": "code",
      "source": [
        "result = model.invoke(prompt)\n",
        "print(result.content)"
      ],
      "metadata": {
        "id": "EtVcTh2gSCOw",
        "colab": {
          "base_uri": "https://localhost:8080/"
        },
        "outputId": "05e2c9c7-ae6b-4d0a-cf77-4eeea871d283"
      },
      "execution_count": 14,
      "outputs": [
        {
          "output_type": "stream",
          "name": "stdout",
          "text": [
            "もちろんです！以下は基本的なカレーのレシピです。具材やスパイスはお好みに応じてアレンジできます。\n",
            "\n",
            "### 材料（4人分）\n",
            "\n",
            "- 鶏肉（もも肉または胸肉）: 400g\n",
            "- 玉ねぎ: 2個\n",
            "- にんじん: 1本\n",
            "- じゃがいも: 2個\n",
            "- カレールー: 1箱（約200g）\n",
            "- サラダ油: 大さじ2\n",
            "- 水: 800ml\n",
            "- 塩: 適量\n",
            "- 胡椒: 適量\n",
            "- お好みでガーリックパウダーや生姜: 適量\n",
            "- ご飯: 適量（白ご飯やナンなど）\n",
            "\n",
            "### 作り方\n",
            "\n",
            "1. **下ごしらえ**:\n",
            "   - 鶏肉は一口大に切り、塩と胡椒を振っておきます。\n",
            "   - 玉ねぎは薄切り、にんじんは輪切り、じゃがいもは一口大に切ります。\n",
            "\n",
            "2. **炒める**:\n",
            "   - 大きめの鍋にサラダ油を熱し、玉ねぎを加えて中火で炒めます。玉ねぎが透明になるまで炒めます。\n",
            "   - 鶏肉を加え、表面が白くなるまで炒めます。\n",
            "\n",
            "3. **野菜を加える**:\n",
            "   - にんじんとじゃがいもを鍋に加え、全体をよく混ぜます。\n",
            "\n",
            "4. **煮る**:\n",
            "   - 水を加え、強火で煮立たせます。煮立ったら火を弱め、アクを取りながら約15分煮ます。\n",
            "\n",
            "5. **カレールーを加える**:\n",
            "   - カレールーを割り入れ、よく溶かします。さらに10分ほど煮込み、全体がなじんだら味を見て、必要に応じて塩や胡椒で調整します。\n",
            "\n",
            "6. **仕上げ**:\n",
            "   - お好みでガーリックパウダーや生姜を加えて風味を増します。火を止めて、少し冷ますと味がなじみます。\n",
            "\n",
            "7. **盛り付け**:\n",
            "   - ご飯を皿に盛り、その上にカレーをかけて完成です。お好みで福神漬けやらっきょうを添えても良いでしょう。\n",
            "\n",
            "### アレンジのアイデア\n",
            "- **野菜カレー**: 鶏肉の代わりに豆腐やお好きな野菜（ナス、ピーマン、カボチャなど）を使っても美味しいです。\n",
            "- **スパイシーカレー**: カレー粉やチリパウダーを追加して、辛さを調整できます。\n",
            "- **ココナッツカレー**: ココナッツミルクを加えると、まろやかで風味豊かなカレーになります。\n",
            "\n",
            "お好みに合わせてアレンジして、ぜひ楽しんでください！\n"
          ]
        }
      ]
    },
    {
      "cell_type": "markdown",
      "source": [
        "### ChatPromptTemplate\n",
        "*  PromptTemplate を Chat model の形式に対応させたもの。  \n",
        "*  SystemMessage、HumanMessage、AIMessage をそれぞれテンプレート化して、ChatPromptTemplate というクラスでまとめて扱うことができる。"
      ],
      "metadata": {
        "id": "JTpzppPyVech"
      }
    },
    {
      "cell_type": "code",
      "source": [
        "from langchain_openai import ChatOpenAI\n",
        "\n",
        "from langchain_core.prompts import ChatPromptTemplate, SystemMessagePromptTemplate, HumanMessagePromptTemplate, AIMessagePromptTemplate, MessagesPlaceholder\n",
        "from langchain_core.messages import AIMessage, HumanMessage, SystemMessage"
      ],
      "metadata": {
        "id": "8JKPwMrlavXd"
      },
      "execution_count": 15,
      "outputs": []
    },
    {
      "cell_type": "code",
      "source": [
        "chat_prompt = ChatPromptTemplate.from_messages([\n",
        "    SystemMessagePromptTemplate.from_template(\"あなたはプログラミング言語 Python の高度なスキルをもつプロフェッショナルのエンジニアです。次の質問に答えてください：\"),\n",
        "    HumanMessagePromptTemplate.from_template(\"{question}\")\n",
        "])\n",
        "\n",
        "messages = chat_prompt.invoke({\"question\": \"簡単な Hello World のコードを作成してください\"})\n",
        "# messages\n",
        "print(messages)"
      ],
      "metadata": {
        "id": "GcE9DMhZcBwB",
        "colab": {
          "base_uri": "https://localhost:8080/"
        },
        "outputId": "9306d0a4-ab43-4ea0-f71a-7c425c56ac75"
      },
      "execution_count": 16,
      "outputs": [
        {
          "output_type": "stream",
          "name": "stdout",
          "text": [
            "messages=[SystemMessage(content='あなたはプログラミング言語 Python の高度なスキルをもつプロフェッショナルのエンジニアです。次の質問に答えてください：', additional_kwargs={}, response_metadata={}), HumanMessage(content='簡単な Hello World のコードを作成してください', additional_kwargs={}, response_metadata={})]\n"
          ]
        }
      ]
    },
    {
      "cell_type": "markdown",
      "source": [
        "以下のように書くこともできる。"
      ],
      "metadata": {
        "id": "t3-YzJEPC_Av"
      }
    },
    {
      "cell_type": "code",
      "source": [
        "chat_prompt = ChatPromptTemplate.from_messages([\n",
        "    (\n",
        "        \"system\",\n",
        "        \"あなたはプログラミング言語 Python の高度なスキルをもつプロフェッショナルのエンジニアです。次の質問に答えてください：\"\n",
        "    ),\n",
        "    (\n",
        "        \"human\",\n",
        "        \"{question}\"\n",
        "    )\n",
        "])\n",
        "\n",
        "messages = chat_prompt.invoke({\"question\": \"簡単な Hello World のコードを作成してください。\"})\n",
        "messages\n",
        "# print(messages)"
      ],
      "metadata": {
        "id": "0nmyY2uk__D6",
        "colab": {
          "base_uri": "https://localhost:8080/"
        },
        "outputId": "7d06dbbe-19d2-4c64-9825-5724245c6896"
      },
      "execution_count": 17,
      "outputs": [
        {
          "output_type": "execute_result",
          "data": {
            "text/plain": [
              "ChatPromptValue(messages=[SystemMessage(content='あなたはプログラミング言語 Python の高度なスキルをもつプロフェッショナルのエンジニアです。次の質問に答えてください：', additional_kwargs={}, response_metadata={}), HumanMessage(content='簡単な Hello World のコードを作成してください。', additional_kwargs={}, response_metadata={})])"
            ]
          },
          "metadata": {},
          "execution_count": 17
        }
      ]
    },
    {
      "cell_type": "markdown",
      "source": [
        "ChatPromptTemplate によって ChatPromptValue のインスタンス (Message のリスト) が出力されるので、それを Chat Medel の入力として使用することができる。\n",
        "\n"
      ],
      "metadata": {
        "id": "umxk7ion-8Bc"
      }
    },
    {
      "cell_type": "code",
      "source": [
        "model = ChatOpenAI(model=\"gpt-4o-mini\", temperature=0)\n",
        "result = model.invoke(messages)\n",
        "print(result.content)"
      ],
      "metadata": {
        "id": "b84c02WwfJB9",
        "colab": {
          "base_uri": "https://localhost:8080/"
        },
        "outputId": "93862f1a-d187-4728-a3d1-934157a461fa"
      },
      "execution_count": 18,
      "outputs": [
        {
          "output_type": "stream",
          "name": "stdout",
          "text": [
            "もちろんです！Pythonでの簡単な「Hello, World!」プログラムは以下のようになります。\n",
            "\n",
            "```python\n",
            "print(\"Hello, World!\")\n",
            "```\n",
            "\n",
            "このコードを実行すると、コンソールに「Hello, World!」と表示されます。\n"
          ]
        }
      ]
    },
    {
      "cell_type": "markdown",
      "source": [
        "HumanMessage だけにまとめてしままう場合は、`from_template` メソッドを使用することもできる。  \n",
        "この場合は、コンテキストも HumanMessage のなかに含まれる。"
      ],
      "metadata": {
        "id": "fTBLpn-UI4jz"
      }
    },
    {
      "cell_type": "code",
      "source": [
        "chat_prompt = ChatPromptTemplate.from_template(\"\"\"あなたはプログラミング言語 Python の高度なスキルをもつプロフェッショナルのエンジニアです。次の質問に答えてください：\n",
        "\n",
        "{question}\"\"\")\n",
        "\n",
        "messages = chat_prompt.invoke({\"question\": \"簡単な Hello World のコードを作成してください。\"})\n",
        "print(messages)"
      ],
      "metadata": {
        "id": "gQEnBQOcI_Vk",
        "colab": {
          "base_uri": "https://localhost:8080/"
        },
        "outputId": "d2fc5c2f-8ed2-4002-d76c-5c5c304dd077"
      },
      "execution_count": 19,
      "outputs": [
        {
          "output_type": "stream",
          "name": "stdout",
          "text": [
            "messages=[HumanMessage(content='あなたはプログラミング言語 Python の高度なスキルをもつプロフェッショナルのエンジニアです。次の質問に答えてください：\\n\\n簡単な Hello World のコードを作成してください。', additional_kwargs={}, response_metadata={})]\n"
          ]
        }
      ]
    },
    {
      "cell_type": "code",
      "source": [
        "result = model.invoke(messages)\n",
        "print(result.content)"
      ],
      "metadata": {
        "id": "X3UYqOX4Kp6S",
        "colab": {
          "base_uri": "https://localhost:8080/"
        },
        "outputId": "03bf4cf3-4242-45ee-d985-64947d00f3b9"
      },
      "execution_count": 20,
      "outputs": [
        {
          "output_type": "stream",
          "name": "stdout",
          "text": [
            "もちろんです！Pythonでの簡単な「Hello, World!」プログラムは以下のようになります。\n",
            "\n",
            "```python\n",
            "print(\"Hello, World!\")\n",
            "```\n",
            "\n",
            "このコードを実行すると、コンソールに「Hello, World!」と表示されます。Pythonの基本的な出力方法を示すシンプルな例です。\n"
          ]
        }
      ]
    },
    {
      "cell_type": "markdown",
      "source": [
        "## Output parsers\n",
        "https://python.langchain.com/docs/concepts/#output-parsers"
      ],
      "metadata": {
        "id": "kTMlmRP50e-2"
      }
    },
    {
      "cell_type": "markdown",
      "source": [
        "### StrOutputParser\n",
        "Chat model の出力をテキストに変換する (AIMessage の `content` だけを抽出する) Output parser\n",
        "[langchain_core.output_parsers.string.StrOutputParser](https://python.langchain.com/api_reference/core/output_parsers/langchain_core.output_parsers.string.StrOutputParser.html)"
      ],
      "metadata": {
        "id": "_fnz23NjFQBg"
      }
    },
    {
      "cell_type": "code",
      "source": [
        "from langchain_core.output_parsers import StrOutputParser\n",
        "\n",
        "parser = StrOutputParser()"
      ],
      "metadata": {
        "id": "73Zs1U9TF4Om"
      },
      "execution_count": 21,
      "outputs": []
    },
    {
      "cell_type": "code",
      "source": [
        "answer = parser.invoke(result)\n",
        "print(answer)"
      ],
      "metadata": {
        "id": "dHweKFFtF_cU",
        "colab": {
          "base_uri": "https://localhost:8080/"
        },
        "outputId": "86d572de-9737-42fa-adeb-1694804fec40"
      },
      "execution_count": 22,
      "outputs": [
        {
          "output_type": "stream",
          "name": "stdout",
          "text": [
            "もちろんです！Pythonでの簡単な「Hello, World!」プログラムは以下のようになります。\n",
            "\n",
            "```python\n",
            "print(\"Hello, World!\")\n",
            "```\n",
            "\n",
            "このコードを実行すると、コンソールに「Hello, World!」と表示されます。Pythonの基本的な出力方法を示すシンプルな例です。\n"
          ]
        }
      ]
    },
    {
      "cell_type": "markdown",
      "source": [
        "# Section 2: Chain と LCEL\n",
        "---"
      ],
      "metadata": {
        "id": "sNbVXl1TnUNA"
      }
    },
    {
      "cell_type": "markdown",
      "source": [
        "ここまでのコードの書き方では、各ステップの結果物を変数に入れ次のステップに渡す必要があり、コードの量が増えてしまう。"
      ],
      "metadata": {
        "id": "8vl4ko_WSLfD"
      }
    },
    {
      "cell_type": "code",
      "source": [
        "from langchain_openai import ChatOpenAI\n",
        "from langchain_core.messages import AIMessage, HumanMessage, SystemMessage\n",
        "from langchain_core.prompts import ChatPromptTemplate\n",
        "from langchain_core.output_parsers import StrOutputParser\n",
        "\n",
        "# Chat model のインスタンスを作成\n",
        "model = ChatOpenAI(model=\"gpt-4o-mini\", temperature=0)\n",
        "\n",
        "# Prompt template のインスタンスを作成\n",
        "chat_prompt = ChatPromptTemplate.from_messages([\n",
        "    (\n",
        "        \"system\",\n",
        "        \"あなたはプログラミング言語 Python の高度なスキルをもつプロフェッショナルのエンジニアです。次の質問に答えてください：\"\n",
        "    ),\n",
        "    (\n",
        "        \"human\",\n",
        "        \"{question}\"\n",
        "    )\n",
        "])\n",
        "# 完全なプロンプトを作る\n",
        "messages = chat_prompt.invoke({\"question\": \"簡単な Hello World のコードを作成してください。\"})\n",
        "\n",
        "# Output parser のインスタンスを作成\n",
        "parser = StrOutputParser()\n",
        "\n",
        "# Chat model にプロンプトを入力して結果を得る\n",
        "result = model.invoke(messages)\n",
        "\n",
        "# Chat model の出力を Output parser に入力して変換する\n",
        "answer = parser.invoke(result)\n",
        "print(answer)"
      ],
      "metadata": {
        "id": "jSvyGZMvNOMs"
      },
      "execution_count": null,
      "outputs": []
    },
    {
      "cell_type": "markdown",
      "source": [
        "LangChain では、その名が示す通り、Chain という形で複数のステップをつなぎ合わせて実行することができる。\n",
        "Chain 同士をつなぎ合わせて Chain を作ることもできるため、単にモデルから出力を得て終わりではなく、処理を連鎖的につないで実行することができる。"
      ],
      "metadata": {
        "id": "rwrCsn7nPzED"
      }
    },
    {
      "cell_type": "markdown",
      "source": [
        "## Runnables\n",
        "* LangChain の主要コンポーネントは Runnable プロトコル (インターフェース) を実装しており、いくつかの共通のメソッドで操作できるようになっている。\n",
        "* Runnable プロトコルを実装しているコンポーネントのオブジェクト自体を Runnable と呼ぶこともある。。\n",
        "\n"
      ],
      "metadata": {
        "id": "D-nCLtXiSgVn"
      }
    },
    {
      "cell_type": "code",
      "source": [
        "chat_prompt = ChatPromptTemplate.from_messages([\n",
        "    (\n",
        "        \"system\",\n",
        "        \"あなたはプログラミング言語 Python の高度なスキルをもつプロフェッショナルのエンジニアです。次の質問に答えてください：\"\n",
        "    ),\n",
        "    (\n",
        "        \"human\",\n",
        "        \"{question}\"\n",
        "    )\n",
        "])\n",
        "messages = chat_prompt.invoke({\"question\": \"簡単な Hello World のコードを作成してください。\"})\n",
        "print(messages)"
      ],
      "metadata": {
        "id": "_ai-MPgAUZdk",
        "colab": {
          "base_uri": "https://localhost:8080/"
        },
        "outputId": "28e26823-cad7-4d88-a7dc-6e84bdc08829"
      },
      "execution_count": 23,
      "outputs": [
        {
          "output_type": "stream",
          "name": "stdout",
          "text": [
            "messages=[SystemMessage(content='あなたはプログラミング言語 Python の高度なスキルをもつプロフェッショナルのエンジニアです。次の質問に答えてください：', additional_kwargs={}, response_metadata={}), HumanMessage(content='簡単な Hello World のコードを作成してください。', additional_kwargs={}, response_metadata={})]\n"
          ]
        }
      ]
    },
    {
      "cell_type": "code",
      "source": [
        "result = model.invoke(messages)\n",
        "print(result)"
      ],
      "metadata": {
        "id": "dG7wGwNq1VlL"
      },
      "execution_count": null,
      "outputs": []
    },
    {
      "cell_type": "code",
      "source": [
        "answer = parser.invoke(result)\n",
        "print(answer)"
      ],
      "metadata": {
        "id": "YquQ1EjA1ZE5"
      },
      "execution_count": null,
      "outputs": []
    },
    {
      "cell_type": "code",
      "source": [
        "chain = chat_prompt | model | parser\n",
        "answer = chain.invoke({\"question\": \"簡単な Hello World のコードを作成してください。\"})\n",
        "print(answer)"
      ],
      "metadata": {
        "id": "AdaVS4bT1dOJ"
      },
      "execution_count": null,
      "outputs": []
    },
    {
      "cell_type": "markdown",
      "source": [
        "## LCEL (LangChain Expression Language) による Chain の記述\n",
        "\n",
        "*   現在の LangChain では LCEL という記法でコードを記述することが推奨されている。\n",
        "*   LCEL では Runnable をパイプ (`|`) でつないで Chain を記述することができる。\n",
        "*   Chain もまた Runnable であり、`invoke` メソッドで実行することができる。\n",
        "\n"
      ],
      "metadata": {
        "id": "Tl11QGoap8QV"
      }
    },
    {
      "cell_type": "markdown",
      "source": [
        "先ほどのコードは LCEL を使って以下のよう書くことができる。"
      ],
      "metadata": {
        "id": "T1YS76CwX_Hy"
      }
    },
    {
      "cell_type": "code",
      "source": [
        "from langchain_openai import ChatOpenAI\n",
        "from langchain_core.messages import AIMessage, HumanMessage, SystemMessage\n",
        "from langchain_core.prompts import ChatPromptTemplate\n",
        "from langchain_core.output_parsers import StrOutputParser\n",
        "\n",
        "# Chat model のインスタンスを作成\n",
        "model = ChatOpenAI(model=\"gpt-4o-mini\", temperature=0)\n",
        "\n",
        "# Prompt template のインスタンスを作成\n",
        "chat_prompt = ChatPromptTemplate.from_messages([\n",
        "    (\n",
        "        \"system\",\n",
        "        \"あなたはプログラミング言語 Python の高度なスキルをもつプロフェッショナルのエンジニアです。次の質問に答えてください：\"\n",
        "    ),\n",
        "    (\n",
        "        \"human\",\n",
        "        \"{question}\"\n",
        "    )\n",
        "])\n",
        "\n",
        "# Output parser のインスタンスを作成\n",
        "parser = StrOutputParser()\n",
        "\n",
        "# Chain を定義する\n",
        "chain = chat_prompt | model | parser\n",
        "\n",
        "# Chain を実行する\n",
        "answer = chain.invoke({\"question\": \"簡単な Hello World のコードを作成してください。\"})\n",
        "print(answer)"
      ],
      "metadata": {
        "id": "ZK0B7Pe9YGYz",
        "colab": {
          "base_uri": "https://localhost:8080/"
        },
        "outputId": "164d2041-a4f5-4384-9195-cd5a255a4933"
      },
      "execution_count": 24,
      "outputs": [
        {
          "output_type": "stream",
          "name": "stdout",
          "text": [
            "もちろんです！Pythonでの簡単な「Hello, World!」プログラムは以下のようになります。\n",
            "\n",
            "```python\n",
            "print(\"Hello, World!\")\n",
            "```\n",
            "\n",
            "このコードを実行すると、コンソールに「Hello, World!」と表示されます。\n"
          ]
        }
      ]
    },
    {
      "cell_type": "markdown",
      "source": [
        "## Streaming による出力\n",
        "*   モデルが長い文章を回答する場合、モデルが最後まで回答し終えてから出力すると、ユーザーしばらく待たされることになりユーザビリティが下がる。\n",
        "*   streaming で出力することにより、モデルからの回答を順次出力していくことが可能になる。\n",
        "*   Runnables は `stream` や `astream` メソッドをサポートしており、これを使用するとでモデルの回答を streaming で出力することができる。\n",
        "\n",
        "https://python.langchain.com/docs/tutorials/chatbot/#streaming"
      ],
      "metadata": {
        "id": "11HG63EqZMNy"
      }
    },
    {
      "cell_type": "markdown",
      "source": [
        "\n",
        "### streamning しない場合\n"
      ],
      "metadata": {
        "id": "UePLZjm2Mhjr"
      }
    },
    {
      "cell_type": "code",
      "source": [
        "from langchain_openai import ChatOpenAI\n",
        "from langchain_core.messages import AIMessage, HumanMessage, SystemMessage\n",
        "from langchain_core.prompts import ChatPromptTemplate\n",
        "from langchain_core.output_parsers import StrOutputParser\n",
        "\n",
        "# Chat model を用意する\n",
        "model = ChatOpenAI(model=\"gpt-4o-mini\", temperature=0)\n",
        "\n",
        "# プロンプトのテンプレートを作る\n",
        "chat_prompt = ChatPromptTemplate.from_messages([\n",
        "    (\n",
        "        \"system\",\n",
        "        \"あなたは AI や機械学習の高度なスキルをもつプロフェッショナルのデータサイエンティストです。次の質問に答えてください：\"\n",
        "    ),\n",
        "    (\n",
        "        \"human\",\n",
        "        \"{question}\"\n",
        "    )\n",
        "])\n",
        "\n",
        "# Output parser を用意する\n",
        "parser = StrOutputParser()\n",
        "\n",
        "# Chain を定義する\n",
        "chain = chat_prompt | model | parser\n",
        "\n",
        "# Chain を実行する\n",
        "answer = chain.invoke({\"question\": \"AI と機械学習、ディープラーニングの関係性をわかりやすく1000文字程度で説明してください。\"})\n",
        "print(answer)"
      ],
      "metadata": {
        "id": "m7AiaWXkZP2n",
        "colab": {
          "base_uri": "https://localhost:8080/"
        },
        "outputId": "ed87a1fa-8c2f-420c-bbcc-f552e5137a46"
      },
      "execution_count": 25,
      "outputs": [
        {
          "output_type": "stream",
          "name": "stdout",
          "text": [
            "AI（人工知能）、機械学習（ML）、ディープラーニング（DL）は、相互に関連しながらも異なる概念です。これらの関係性を理解することは、現代の技術の進化を把握する上で非常に重要です。\n",
            "\n",
            "まず、AI（Artificial Intelligence）とは、人間の知能を模倣することを目的とした技術の総称です。AIは、問題解決、学習、推論、計画、自然言語処理など、さまざまな知的作業を行うことができます。AIは大きく分けて、ルールベースのシステム（従来のプログラミングに基づく）と、機械学習を用いたシステムに分類されます。\n",
            "\n",
            "次に、機械学習（Machine Learning）は、AIの一分野であり、データから学習し、経験を通じてパフォーマンスを向上させるアルゴリズムや技術を指します。機械学習は、明示的にプログラムされていないタスクを実行するために、データを使用してモデルを訓練します。機械学習には、教師あり学習、教師なし学習、強化学習などの手法があります。教師あり学習では、ラベル付きデータを用いてモデルを訓練し、教師なし学習では、ラベルなしデータからパターンを見つけ出します。\n",
            "\n",
            "さらに、ディープラーニング（Deep Learning）は、機械学習の一種であり、特に神経ネットワークを用いた手法です。ディープラーニングは、多層のニューラルネットワークを使用して、データの特徴を自動的に抽出し、複雑なパターンを学習します。これにより、画像認識、音声認識、自然言語処理などの分野で非常に高い精度を達成しています。ディープラーニングは、大量のデータと計算リソースを必要としますが、その結果として得られる性能は非常に優れています。\n",
            "\n",
            "要約すると、AIは知能を模倣する広範な分野であり、その中に機械学習が位置し、さらにその中にディープラーニングが存在します。AIは人間の知能を再現するための全体的な枠組みであり、機械学習はその実現手段の一つ、ディープラーニングはその中でも特に強力な手法です。このように、AI、機械学習、ディープラーニングは階層的な関係にあり、それぞれが異なる役割を果たしています。これらの技術は、今後も進化し続け、さまざまな分野での応用が期待されています。\n"
          ]
        }
      ]
    },
    {
      "cell_type": "markdown",
      "source": [
        "### streaming で出力する場合\n",
        "[How to stream runnables](https://python.langchain.com/docs/how_to/streaming/)\n"
      ],
      "metadata": {
        "id": "bf-ccp8KOl9H"
      }
    },
    {
      "cell_type": "code",
      "source": [
        "from langchain_openai import ChatOpenAI\n",
        "from langchain_core.messages import AIMessage, HumanMessage, SystemMessage\n",
        "from langchain_core.prompts import ChatPromptTemplate\n",
        "from langchain_core.output_parsers import StrOutputParser\n",
        "\n",
        "# Chat model を用意する\n",
        "model = ChatOpenAI(model=\"gpt-4o-mini\", temperature=0)\n",
        "\n",
        "# プロンプトのテンプレートを作る\n",
        "chat_prompt = ChatPromptTemplate.from_messages([\n",
        "    (\n",
        "        \"system\",\n",
        "        \"あなたは AI や機械学習の高度なスキルをもつプロフェッショナルのデータサイエンティストです。次の質問に答えてください：\"\n",
        "    ),\n",
        "    (\n",
        "        \"human\",\n",
        "        \"{question}\"\n",
        "    )\n",
        "])\n",
        "\n",
        "# Output parser を用意する\n",
        "parser = StrOutputParser()\n",
        "\n",
        "# Chain を定義する\n",
        "chain = chat_prompt | model | parser\n",
        "\n",
        "# Chain を実行して streaming で出力する\n",
        "for chunk in chain.stream({\"question\": \"AI と機械学習、ディープラーニングの関係性をわかりやすく1000文字程度で説明してください。\"}):\n",
        "  print(chunk, end='', flush=True)\n"
      ],
      "metadata": {
        "id": "W1_cFX9PGF9a",
        "colab": {
          "base_uri": "https://localhost:8080/"
        },
        "outputId": "019cb05b-e5ab-419e-a1ce-522f039afd96"
      },
      "execution_count": 26,
      "outputs": [
        {
          "output_type": "stream",
          "name": "stdout",
          "text": [
            "AI（人工知能）、機械学習（ML）、ディープラーニング（DL）は、相互に関連しながらも異なる概念です。これらの関係性を理解することは、現代の技術の進化を把握する上で非常に重要です。\n",
            "\n",
            "まず、AI（Artificial Intelligence）とは、人間の知能を模倣することを目的とした技術やシステムの総称です。AIは、問題解決、学習、推論、計画、自然言語処理など、さまざまな知的作業を行うことができます。AIは大きく分けて、ルールベースのシステム（従来のプログラミングに基づく）と、機械学習を用いたシステムに分類されます。\n",
            "\n",
            "次に、機械学習（Machine Learning）は、AIの一分野であり、データから学習し、経験を通じてパフォーマンスを向上させるアルゴリズムや手法を指します。機械学習は、明示的にプログラムされるのではなく、データを用いてモデルを訓練し、予測や分類を行います。機械学習には、教師あり学習、教師なし学習、強化学習などの手法があります。教師あり学習では、ラベル付きデータを用いてモデルを訓練し、教師なし学習では、ラベルのないデータからパターンを見つけ出します。\n",
            "\n",
            "さらに、ディープラーニング（Deep Learning）は、機械学習の一種であり、特に神経ネットワークを用いた手法です。ディープラーニングは、多層のニューラルネットワークを使用して、データの特徴を自動的に抽出し、複雑なパターンを学習します。これにより、画像認識、音声認識、自然言語処理などのタスクで非常に高い精度を達成することが可能です。ディープラーニングは、大量のデータと計算リソースを必要としますが、その結果として得られる性能は非常に優れています。\n",
            "\n",
            "要約すると、AIは知能を模倣する広範な分野であり、その中に機械学習が位置し、さらにその中にディープラーニングが存在します。AIは人間の知能を再現するための全体的な枠組みであり、機械学習はその実現手段の一つ、ディープラーニングはその中でも特に強力な手法です。これらの技術は、今後の技術革新や社会の変革に大きな影響を与えると期待されています。"
          ]
        }
      ]
    },
    {
      "cell_type": "markdown",
      "source": [
        "## LCEL を理解するための How-to ガイド\n",
        "https://python.langchain.com/docs/how_to/#langchain-expression-language-lcel"
      ],
      "metadata": {
        "id": "rqrJ7k7YBvXa"
      }
    },
    {
      "cell_type": "markdown",
      "source": [
        "# Secton 3: Chat history\n",
        "---\n",
        "https://python.langchain.com/docs/concepts/#chat-history"
      ],
      "metadata": {
        "id": "9JW3TX082wrn"
      }
    },
    {
      "cell_type": "markdown",
      "source": [
        "\n",
        "\n",
        "*   ここまではモデルとの一問一答での対話だったが、チャットでは会話の継続性が必要になる。\n",
        "*   ただ、生成 AI モデルの API はステートレスであり、モデル側に会話の履歴を記憶させることはできない。\n",
        "*   しかし、Chat history を使用して会話の履歴をプロンプトに追加していくことで、会話に継続性をもたせることができるようになる。\n",
        "\n"
      ],
      "metadata": {
        "id": "1J4Ld6tTi-JA"
      }
    },
    {
      "cell_type": "markdown",
      "source": [
        "### 会話履歴がない場合"
      ],
      "metadata": {
        "id": "uYf1vPqekPo_"
      }
    },
    {
      "cell_type": "code",
      "source": [
        "from langchain_openai import ChatOpenAI\n",
        "from langchain_core.prompts import ChatPromptTemplate, SystemMessagePromptTemplate, HumanMessagePromptTemplate, AIMessagePromptTemplate\n",
        "from langchain_core.messages import AIMessage, HumanMessage, SystemMessage\n",
        "from langchain_core.output_parsers import StrOutputParser\n",
        "\n",
        "# Chat model を用意する\n",
        "model = ChatOpenAI(model=\"gpt-4o-mini\", temperature=0)\n",
        "\n",
        "# Chat template を用意する\n",
        "chat_prompt = ChatPromptTemplate.from_messages(\n",
        "  [\n",
        "      SystemMessagePromptTemplate.from_template(\"あなたは人間と会話するチャットボットです\"),\n",
        "      HumanMessagePromptTemplate.from_template(\"{input}\")\n",
        "  ]\n",
        ")\n",
        "\n",
        "# Output parser を用意する\n",
        "parser = StrOutputParser()\n",
        "\n",
        "# Chain を定義する\n",
        "chain = chat_prompt | model | parser"
      ],
      "metadata": {
        "id": "rV7XI7GK2V3t"
      },
      "execution_count": 27,
      "outputs": []
    },
    {
      "cell_type": "markdown",
      "source": [
        "以下のセルを実行して、以前の入力や回答に言及する継続的な会話をしてみましょう。"
      ],
      "metadata": {
        "id": "7BasAkDnsZYg"
      }
    },
    {
      "cell_type": "code",
      "source": [
        "print('Write Quit, Exit or Bye to quit.')\n",
        "while True:\n",
        "    q = input('Your prompt: ')\n",
        "    if q.lower() in ['quit', 'exit', 'bye']:\n",
        "        print('Quitting ... bye bye!')\n",
        "        break\n",
        "\n",
        "    answer = chain.invoke({\"input\": q})\n",
        "    print(f'\\nAnswer: {answer}')"
      ],
      "metadata": {
        "id": "YmKxVlcP36_d",
        "colab": {
          "base_uri": "https://localhost:8080/",
          "height": 687
        },
        "outputId": "597944ad-b557-42e6-d1fa-4f4bc0435e1c"
      },
      "execution_count": 28,
      "outputs": [
        {
          "output_type": "stream",
          "name": "stdout",
          "text": [
            "Write Quit, Exit or Bye to quit.\n",
            "Your prompt: 僕は\n",
            "\n",
            "Answer: こんにちは！何かお話ししたいことがありますか？\n",
            "Your prompt: ケイです\n",
            "\n",
            "Answer: こんにちは、ケイさん！今日はどんなことをお話ししましょうか？\n",
            "Your prompt: 嬉しです\n",
            "\n",
            "Answer: それは良かったですね！何が嬉しいのですか？お話を聞かせてください。\n",
            "Your prompt: 名前を覚えてもらったこと\n",
            "\n",
            "Answer: もちろんです！あなたの名前を教えていただければ、会話の中で使うことができますよ。どうぞお知らせください。\n",
            "Your prompt: 僕は何を嬉しがった？\n",
            "\n",
            "Answer: あなたが嬉しがったことについて具体的な情報はわかりませんが、何か特別な出来事や成功、楽しい経験があったのかもしれませんね。最近の出来事や感じたことを教えてもらえれば、もっとお話しできるかもしれません！\n"
          ]
        },
        {
          "output_type": "error",
          "ename": "KeyboardInterrupt",
          "evalue": "Interrupted by user",
          "traceback": [
            "\u001b[0;31m---------------------------------------------------------------------------\u001b[0m",
            "\u001b[0;31mKeyboardInterrupt\u001b[0m                         Traceback (most recent call last)",
            "\u001b[0;32m/tmp/ipython-input-28-2228975112.py\u001b[0m in \u001b[0;36m<cell line: 0>\u001b[0;34m()\u001b[0m\n\u001b[1;32m      1\u001b[0m \u001b[0mprint\u001b[0m\u001b[0;34m(\u001b[0m\u001b[0;34m'Write Quit, Exit or Bye to quit.'\u001b[0m\u001b[0;34m)\u001b[0m\u001b[0;34m\u001b[0m\u001b[0;34m\u001b[0m\u001b[0m\n\u001b[1;32m      2\u001b[0m \u001b[0;32mwhile\u001b[0m \u001b[0;32mTrue\u001b[0m\u001b[0;34m:\u001b[0m\u001b[0;34m\u001b[0m\u001b[0;34m\u001b[0m\u001b[0m\n\u001b[0;32m----> 3\u001b[0;31m     \u001b[0mq\u001b[0m \u001b[0;34m=\u001b[0m \u001b[0minput\u001b[0m\u001b[0;34m(\u001b[0m\u001b[0;34m'Your prompt: '\u001b[0m\u001b[0;34m)\u001b[0m\u001b[0;34m\u001b[0m\u001b[0;34m\u001b[0m\u001b[0m\n\u001b[0m\u001b[1;32m      4\u001b[0m     \u001b[0;32mif\u001b[0m \u001b[0mq\u001b[0m\u001b[0;34m.\u001b[0m\u001b[0mlower\u001b[0m\u001b[0;34m(\u001b[0m\u001b[0;34m)\u001b[0m \u001b[0;32min\u001b[0m \u001b[0;34m[\u001b[0m\u001b[0;34m'quit'\u001b[0m\u001b[0;34m,\u001b[0m \u001b[0;34m'exit'\u001b[0m\u001b[0;34m,\u001b[0m \u001b[0;34m'bye'\u001b[0m\u001b[0;34m]\u001b[0m\u001b[0;34m:\u001b[0m\u001b[0;34m\u001b[0m\u001b[0;34m\u001b[0m\u001b[0m\n\u001b[1;32m      5\u001b[0m         \u001b[0mprint\u001b[0m\u001b[0;34m(\u001b[0m\u001b[0;34m'Quitting ... bye bye!'\u001b[0m\u001b[0;34m)\u001b[0m\u001b[0;34m\u001b[0m\u001b[0;34m\u001b[0m\u001b[0m\n",
            "\u001b[0;32m/usr/local/lib/python3.11/dist-packages/ipykernel/kernelbase.py\u001b[0m in \u001b[0;36mraw_input\u001b[0;34m(self, prompt)\u001b[0m\n\u001b[1;32m   1175\u001b[0m                 \u001b[0;34m\"raw_input was called, but this frontend does not support input requests.\"\u001b[0m\u001b[0;34m\u001b[0m\u001b[0;34m\u001b[0m\u001b[0m\n\u001b[1;32m   1176\u001b[0m             )\n\u001b[0;32m-> 1177\u001b[0;31m         return self._input_request(\n\u001b[0m\u001b[1;32m   1178\u001b[0m             \u001b[0mstr\u001b[0m\u001b[0;34m(\u001b[0m\u001b[0mprompt\u001b[0m\u001b[0;34m)\u001b[0m\u001b[0;34m,\u001b[0m\u001b[0;34m\u001b[0m\u001b[0;34m\u001b[0m\u001b[0m\n\u001b[1;32m   1179\u001b[0m             \u001b[0mself\u001b[0m\u001b[0;34m.\u001b[0m\u001b[0m_parent_ident\u001b[0m\u001b[0;34m[\u001b[0m\u001b[0;34m\"shell\"\u001b[0m\u001b[0;34m]\u001b[0m\u001b[0;34m,\u001b[0m\u001b[0;34m\u001b[0m\u001b[0;34m\u001b[0m\u001b[0m\n",
            "\u001b[0;32m/usr/local/lib/python3.11/dist-packages/ipykernel/kernelbase.py\u001b[0m in \u001b[0;36m_input_request\u001b[0;34m(self, prompt, ident, parent, password)\u001b[0m\n\u001b[1;32m   1217\u001b[0m             \u001b[0;32mexcept\u001b[0m \u001b[0mKeyboardInterrupt\u001b[0m\u001b[0;34m:\u001b[0m\u001b[0;34m\u001b[0m\u001b[0;34m\u001b[0m\u001b[0m\n\u001b[1;32m   1218\u001b[0m                 \u001b[0;31m# re-raise KeyboardInterrupt, to truncate traceback\u001b[0m\u001b[0;34m\u001b[0m\u001b[0;34m\u001b[0m\u001b[0m\n\u001b[0;32m-> 1219\u001b[0;31m                 \u001b[0;32mraise\u001b[0m \u001b[0mKeyboardInterrupt\u001b[0m\u001b[0;34m(\u001b[0m\u001b[0;34m\"Interrupted by user\"\u001b[0m\u001b[0;34m)\u001b[0m \u001b[0;32mfrom\u001b[0m \u001b[0;32mNone\u001b[0m\u001b[0;34m\u001b[0m\u001b[0;34m\u001b[0m\u001b[0m\n\u001b[0m\u001b[1;32m   1220\u001b[0m             \u001b[0;32mexcept\u001b[0m \u001b[0mException\u001b[0m\u001b[0;34m:\u001b[0m\u001b[0;34m\u001b[0m\u001b[0;34m\u001b[0m\u001b[0m\n\u001b[1;32m   1221\u001b[0m                 \u001b[0mself\u001b[0m\u001b[0;34m.\u001b[0m\u001b[0mlog\u001b[0m\u001b[0;34m.\u001b[0m\u001b[0mwarning\u001b[0m\u001b[0;34m(\u001b[0m\u001b[0;34m\"Invalid Message:\"\u001b[0m\u001b[0;34m,\u001b[0m \u001b[0mexc_info\u001b[0m\u001b[0;34m=\u001b[0m\u001b[0;32mTrue\u001b[0m\u001b[0;34m)\u001b[0m\u001b[0;34m\u001b[0m\u001b[0;34m\u001b[0m\u001b[0m\n",
            "\u001b[0;31mKeyboardInterrupt\u001b[0m: Interrupted by user"
          ]
        }
      ]
    },
    {
      "cell_type": "markdown",
      "source": [
        "## LangChain の記憶 (会話履歴) に関する機能\n",
        "\n",
        "### Chat History - BaseChatMessageHistory を継承したクラスたち\n",
        "[langchain_community.chat_message_histories](https://python.langchain.com/api_reference/community/chat_message_histories.html)  \n",
        "\n",
        "#### 例：\n",
        "`ChatMessageHistory`, `SQLChatMessegeHistory`, `RedisChatMessageHistory`, `DynamoDBChatMessageHistory`, etc.  \n",
        "\n",
        "\n",
        "#### 概要：\n",
        "*  決まった形式で会話履歴をデータベース (やメモリ) に保存する機能を提供する。\n",
        "*  裏で会話履歴の Message を保存するリストを持っていて、そのリストに対する Message の追加や読み出しができる。\n",
        "*  データベースに読み書きする機能がクラスに実装されているため、その部分のコードを書く必要がなく、バックエンドのデータベースが異なっていてもコードとしてはほぼ同じインターフェイスで操作できる。\n",
        "*  RDB で自前でテーブル設計して会話履歴を保存したい場合は、これらのクラスが実行している処理を自前で実装すればよい。\n",
        "\n",
        "\n",
        "#### 使い方：\n",
        "*  `add_user_message`/`add_ai_message` メソッドを使って、自前で履歴を管理する\n",
        "*  `RunnableWithMessageHistory` と合わせて使用する\n",
        "\n",
        "---\n",
        "### Memory - BaseMemory を継承したクラスたち\n",
        "[langchain.memory](https://python.langchain.com/api_reference/langchain/memory.html)\n",
        "\n",
        "#### 例：\n",
        "`ConversationBufferMemory`, `ConversationBufferWindowMemory`, `ConversationSummaryMemory`, etc.\n",
        "\n",
        "#### 概要：\n",
        "*  「BaseChatMessageHistory を継承したクラスたち」に対して、会話履歴の一部だけを使用したり、履歴を要約してプロンプトに使用する等の機能を提供する。\n",
        "*  v0.2 のドキュメントには記載がない (v0.1 のドキュメントには [Beta] と記載されている)\n"
      ],
      "metadata": {
        "id": "EzsSvGkJXz-H"
      }
    },
    {
      "cell_type": "markdown",
      "source": [
        "## 会話履歴による会話の継続性の基本的な考え方\n",
        "ユーザーによる最新の入力だけでなく、過去の会話履歴の Messages をプロンプトに入れてモデルに渡す。  \n",
        "参考：[How to add memory to chatbots](https://python.langchain.com/docs/how_to/chatbots_memory/)"
      ],
      "metadata": {
        "id": "22Uq2y6UpTNw"
      }
    },
    {
      "cell_type": "code",
      "source": [
        "from langchain_core.messages import AIMessage, HumanMessage\n",
        "from langchain_core.prompts import ChatPromptTemplate, MessagesPlaceholder\n",
        "\n",
        "# Chat model を用意する\n",
        "model = ChatOpenAI(model=\"gpt-4o-mini\", temperature=0)\n",
        "\n",
        "# Chat template を用意する\n",
        "chat_prompt = ChatPromptTemplate.from_messages(\n",
        "    [\n",
        "        (\n",
        "            \"system\",\n",
        "            \"あなたは人間と会話するチャットボットです。\",\n",
        "        ),\n",
        "        MessagesPlaceholder(variable_name=\"messages\"), # 複数の Message をプロンプトに挿入するためのプレースホルダ\n",
        "    ]\n",
        ")\n",
        "\n",
        "# Output parser を用意する\n",
        "parser = StrOutputParser()\n",
        "\n",
        "# Chain を定義\n",
        "chain = chat_prompt | model | parser\n",
        "\n",
        "# Chain を実行\n",
        "answer = chain.invoke(\n",
        "    {\n",
        "        \"messages\": [\n",
        "            HumanMessage(\n",
        "                content=\"私の名前はジョンといいます。\"\n",
        "            ),\n",
        "            AIMessage(content=\"ジョンさんですね。よろしくお願いします。\"),\n",
        "            HumanMessage(content=\"私の名前がわかりますか。\"),\n",
        "        ],\n",
        "    }\n",
        ")\n",
        "print(answer)"
      ],
      "metadata": {
        "id": "qS8jMkpVp7ja",
        "colab": {
          "base_uri": "https://localhost:8080/"
        },
        "outputId": "4d8d64f8-4187-423e-9357-bbcbc7381ad7"
      },
      "execution_count": 29,
      "outputs": [
        {
          "output_type": "stream",
          "name": "stdout",
          "text": [
            "はい、ジョンさんとおっしゃっていましたね。何かお話ししたいことがありますか？\n"
          ]
        }
      ]
    },
    {
      "cell_type": "markdown",
      "source": [
        "## Chat history を使う\n",
        "まず、`ChatMessageHistory` がどのように会話履歴を保持するか確認する。"
      ],
      "metadata": {
        "id": "oOxqBk_xv70X"
      }
    },
    {
      "cell_type": "code",
      "source": [
        "from langchain_community.chat_message_histories import ChatMessageHistory\n",
        "\n",
        "# ChatMessageHistory のインスタンスを作成\n",
        "demo_ephemeral_chat_history = ChatMessageHistory()\n",
        "\n",
        "demo_ephemeral_chat_history.add_user_message(\n",
        "    \"私の名前はジョンといいます。\"\n",
        ")\n",
        "\n",
        "demo_ephemeral_chat_history.add_ai_message(\"ジョンさんですね。よろしくお願いします。\")\n",
        "\n",
        "demo_ephemeral_chat_history.messages"
      ],
      "metadata": {
        "id": "NwKC3tqvs9LA",
        "colab": {
          "base_uri": "https://localhost:8080/"
        },
        "outputId": "ad1288d4-3462-4357-a050-dfb245d4dcba"
      },
      "execution_count": 30,
      "outputs": [
        {
          "output_type": "execute_result",
          "data": {
            "text/plain": [
              "[HumanMessage(content='私の名前はジョンといいます。', additional_kwargs={}, response_metadata={}),\n",
              " AIMessage(content='ジョンさんですね。よろしくお願いします。', additional_kwargs={}, response_metadata={})]"
            ]
          },
          "metadata": {},
          "execution_count": 30
        }
      ]
    },
    {
      "cell_type": "markdown",
      "source": [
        "*  `ChatMessageHistory` は `add_user_message` や `add_ai_message` というメソッドを備えており、これを使って会話履歴の Message を追加保存していくことができる。\n",
        "*  追加した Message は、Message のリストとして保持される。"
      ],
      "metadata": {
        "id": "onBgsIlRwUse"
      }
    },
    {
      "cell_type": "markdown",
      "source": [
        "ユーザーの入力と、それに対するモデルからの回答を順次追加していき、それをプロンプトに含めることによって、会話履歴をもった継続性のある会話が可能となる。"
      ],
      "metadata": {
        "id": "_x-kCPYGxAYA"
      }
    },
    {
      "cell_type": "code",
      "source": [
        "demo_ephemeral_chat_history = ChatMessageHistory()\n",
        "\n",
        "# 1 番目の入力\n",
        "input1 = \"私の名前はジョンといいます。\"\n",
        "print(f\"INPUT1: {input1}\")\n",
        "\n",
        "demo_ephemeral_chat_history.add_user_message(input1)\n",
        "\n",
        "# 1 番目の入力に対して回答を出力\n",
        "response = chain.invoke(\n",
        "    {\n",
        "        \"messages\": demo_ephemeral_chat_history.messages,\n",
        "    }\n",
        ")\n",
        "print(f\"ANSWER1: {response}\")\n",
        "\n",
        "# 1 番目の回答を Chat history に追加\n",
        "demo_ephemeral_chat_history.add_ai_message(response)\n",
        "\n",
        "# 2 番目の入力\n",
        "input2 = \"私の名前がわかりますか。\"\n",
        "print(f\"INPUT2: {input2}\")\n",
        "\n",
        "demo_ephemeral_chat_history.add_user_message(input2)\n",
        "\n",
        "# 2 番目の入力に対して回答を出力\n",
        "answer = chain.invoke(\n",
        "    {\n",
        "        \"messages\": demo_ephemeral_chat_history.messages,\n",
        "    }\n",
        ")\n",
        "print(f\"ANSWER2: {answer}\")"
      ],
      "metadata": {
        "id": "ZOw17CLGtcfK",
        "colab": {
          "base_uri": "https://localhost:8080/"
        },
        "outputId": "3df413a3-b727-4af2-b1a1-fb4e66f5c50d"
      },
      "execution_count": 31,
      "outputs": [
        {
          "output_type": "stream",
          "name": "stdout",
          "text": [
            "INPUT1: 私の名前はジョンといいます。\n",
            "ANSWER1: ジョンさん、こんにちは！お話しできてうれしいです。今日はどんなことをお話ししましょうか？\n",
            "INPUT2: 私の名前がわかりますか。\n",
            "ANSWER2: はい、ジョンさんという名前だとおっしゃっていましたね。何か特別なことについてお話ししたいことがありますか？\n"
          ]
        }
      ]
    },
    {
      "cell_type": "markdown",
      "source": [
        "## Chat history を RunnableWithMessageHistory と組み合わせて使用する\n",
        "*  `RunnableWithMessageHistory` は別の Runnable のために Chat history を管理してくれる Runnable 。\n",
        "*  別の Runnable (≒ Chain) をラップして、その Chat history の読み出しや更新を行う。\n",
        "*  `add_user_message` や `add_ai_message` を使ってコードを書かずに済むが、抽象化されてしまっているためややわかりにくく、コードの書き方もクラスの制約を受ける。\n",
        "\n",
        "[langchain_core.runnables.history.RunnableWithMessageHistory](https://python.langchain.com/api_reference/core/runnables/langchain_core.runnables.history.RunnableWithMessageHistory.html)"
      ],
      "metadata": {
        "id": "PCo_K_Y8pmyH"
      }
    },
    {
      "cell_type": "code",
      "source": [
        "from langchain_openai import ChatOpenAI\n",
        "from langchain_core.prompts import ChatPromptTemplate, SystemMessagePromptTemplate, HumanMessagePromptTemplate, AIMessagePromptTemplate, MessagesPlaceholder\n",
        "from langchain_core.messages import AIMessage, HumanMessage, SystemMessage\n",
        "from langchain_core.output_parsers import StrOutputParser\n",
        "\n",
        "from langchain_community.chat_message_histories.in_memory import ChatMessageHistory\n",
        "from langchain_core.chat_history import BaseChatMessageHistory\n",
        "from langchain_core.runnables.history import RunnableWithMessageHistory\n",
        "\n",
        "# Chat model を用意する\n",
        "model = ChatOpenAI(model=\"gpt-4o-mini\", temperature=0)\n",
        "\n",
        "# 特定のセッション ID に対する ChatMessageHistory のインスタンスを作成\n",
        "store = {}\n",
        "def get_session_history(session_id: str) -> BaseChatMessageHistory:\n",
        "    if session_id not in store:\n",
        "        store[session_id] = ChatMessageHistory()\n",
        "    return store[session_id]\n",
        "\n",
        "\n",
        "# Prompt template を用意する\n",
        "chat_prompt = ChatPromptTemplate.from_messages(\n",
        "  [\n",
        "      SystemMessagePromptTemplate.from_template(\"あなたは人間と会話するチャットボットです\"),\n",
        "      MessagesPlaceholder(variable_name=\"chat_history\"),\n",
        "      HumanMessagePromptTemplate.from_template(\"{input}\")\n",
        "  ]\n",
        ")\n",
        "\n",
        "# Output parser を用意する\n",
        "parser = StrOutputParser()\n",
        "\n",
        "# Chain を定義する\n",
        "chain = chat_prompt | model | parser\n",
        "\n",
        "# RunnableWithMessageHistory のインスタンスを作成\n",
        "runnable_with_history = RunnableWithMessageHistory(\n",
        "    chain,\n",
        "    get_session_history,\n",
        "    input_messages_key=\"input\",\n",
        "    history_messages_key=\"chat_history\",\n",
        ")"
      ],
      "metadata": {
        "id": "MShzrcWT4wtF"
      },
      "execution_count": 32,
      "outputs": []
    },
    {
      "cell_type": "code",
      "source": [
        "print('Write Quit, Exit or Bye to quit.')\n",
        "while True:\n",
        "    q = input('Your prompt: ')\n",
        "    if q.lower() in ['quit', 'exit', 'bye']:\n",
        "        print('Quitting ... bye bye!')\n",
        "        break\n",
        "\n",
        "    answer = runnable_with_history.invoke({\"input\": q}, config={\"configurable\": {\"session_id\": \"a123\"}})\n",
        "    print(f'\\nAnswer: {answer}')"
      ],
      "metadata": {
        "id": "XLeSBxDkoji3",
        "colab": {
          "base_uri": "https://localhost:8080/"
        },
        "outputId": "7f0ecd21-688d-4700-efd8-5aae232cc8c5"
      },
      "execution_count": 33,
      "outputs": [
        {
          "output_type": "stream",
          "name": "stdout",
          "text": [
            "Write Quit, Exit or Bye to quit.\n",
            "Your prompt: 僕の名前は\n",
            "\n",
            "Answer: あなたの名前は何ですか？教えていただければ嬉しいです！\n",
            "Your prompt: としきです\n",
            "\n",
            "Answer: としきさん、こんにちは！お話しできて嬉しいです。今日はどんなことを話しましょうか？\n",
            "Your prompt: 私の名前わかりますか\n",
            "\n",
            "Answer: はい、としきさんですね！何か特別なことについてお話ししたいことがありますか？\n",
            "Your prompt: quit\n",
            "Quitting ... bye bye!\n"
          ]
        }
      ]
    },
    {
      "cell_type": "markdown",
      "source": [
        "## SQLChatMessageHistory を使用する\n",
        "[langchain_community.chat_message_histories.sql.SQLChatMessageHistory](https://python.langchain.com/api_reference/community/chat_message_histories/langchain_community.chat_message_histories.sql.SQLChatMessageHistory.html)  \n",
        "参考：[How to add message history](https://python.langchain.com/docs/how_to/message_history/)"
      ],
      "metadata": {
        "id": "qQtrxGRWA6z6"
      }
    },
    {
      "cell_type": "code",
      "source": [
        "from langchain_openai import ChatOpenAI\n",
        "from langchain_core.prompts import ChatPromptTemplate, SystemMessagePromptTemplate, HumanMessagePromptTemplate, AIMessagePromptTemplate, MessagesPlaceholder\n",
        "from langchain_core.messages import AIMessage, HumanMessage, SystemMessage\n",
        "from langchain_core.output_parsers import StrOutputParser\n",
        "\n",
        "from langchain_community.chat_message_histories.sql import SQLChatMessageHistory\n",
        "from langchain_core.chat_history import BaseChatMessageHistory\n",
        "from langchain_core.runnables.history import RunnableWithMessageHistory\n",
        "\n",
        "# Chat model を用意する\n",
        "model = ChatOpenAI(model=\"gpt-4o-mini\", temperature=0)\n",
        "\n",
        "# 特定のセッション ID に対する SQLChatMessageHistory のインスタンスを作成\n",
        "def get_session_history_sql(session_id):\n",
        "    return SQLChatMessageHistory(session_id, connection_string=\"sqlite:///memory.db\")\n",
        "\n",
        "# Prompt template を用意する\n",
        "chat_prompt = ChatPromptTemplate.from_messages(\n",
        "  [\n",
        "      SystemMessagePromptTemplate.from_template(\"あなたは人間と会話するチャットボットです\"),\n",
        "      MessagesPlaceholder(variable_name=\"chat_history\"),\n",
        "      HumanMessagePromptTemplate.from_template(\"{input}\")\n",
        "  ]\n",
        ")\n",
        "\n",
        "# Output parser を用意する\n",
        "parser = StrOutputParser()\n",
        "\n",
        "# Chain を定義する\n",
        "chain = chat_prompt | model | parser\n",
        "\n",
        "# RunnableWithMessageHistory のインスタンスを作成\n",
        "runnable_with_history = RunnableWithMessageHistory(\n",
        "    chain,\n",
        "    get_session_history_sql,\n",
        "    input_messages_key=\"input\",\n",
        "    history_messages_key=\"chat_history\",\n",
        ")"
      ],
      "metadata": {
        "id": "uDZLK-Ye8t-m"
      },
      "execution_count": 34,
      "outputs": []
    },
    {
      "cell_type": "code",
      "source": [
        "print('Write Quit, Exit or Bye to quit.')\n",
        "while True:\n",
        "    q = input('Your prompt: ')\n",
        "    if q.lower() in ['quit', 'exit', 'bye']:\n",
        "        print('Quitting ... bye bye!')\n",
        "        break\n",
        "\n",
        "    answer = runnable_with_history.invoke({\"input\": q}, config={\"configurable\": {\"session_id\": \"a456\"}})\n",
        "    print(f'\\nAnswer: {answer}')"
      ],
      "metadata": {
        "id": "Y3aaVHmQ8zH6",
        "colab": {
          "base_uri": "https://localhost:8080/",
          "height": 558
        },
        "outputId": "07af1c79-5521-4b75-a8f8-59f4029d2260"
      },
      "execution_count": 35,
      "outputs": [
        {
          "name": "stdout",
          "output_type": "stream",
          "text": [
            "Write Quit, Exit or Bye to quit.\n",
            "Your prompt: こんにちは\n"
          ]
        },
        {
          "output_type": "stream",
          "name": "stderr",
          "text": [
            "/usr/local/lib/python3.11/dist-packages/langchain_core/runnables/history.py:600: LangChainDeprecationWarning: `connection_string` was deprecated in LangChain 0.2.2 and will be removed in 1.0. Use connection instead.\n",
            "  message_history = self.get_session_history(\n"
          ]
        },
        {
          "output_type": "stream",
          "name": "stdout",
          "text": [
            "\n",
            "Answer: こんにちは！今日はどんなことをお話ししましょうか？\n",
            "Your prompt: さっき僕なんて言った？\n",
            "\n",
            "Answer: 「こんにちは」と言いましたね。何か特別なことをお話ししたいですか？\n"
          ]
        },
        {
          "output_type": "error",
          "ename": "KeyboardInterrupt",
          "evalue": "Interrupted by user",
          "traceback": [
            "\u001b[0;31m---------------------------------------------------------------------------\u001b[0m",
            "\u001b[0;31mKeyboardInterrupt\u001b[0m                         Traceback (most recent call last)",
            "\u001b[0;32m/tmp/ipython-input-35-2289008666.py\u001b[0m in \u001b[0;36m<cell line: 0>\u001b[0;34m()\u001b[0m\n\u001b[1;32m      1\u001b[0m \u001b[0mprint\u001b[0m\u001b[0;34m(\u001b[0m\u001b[0;34m'Write Quit, Exit or Bye to quit.'\u001b[0m\u001b[0;34m)\u001b[0m\u001b[0;34m\u001b[0m\u001b[0;34m\u001b[0m\u001b[0m\n\u001b[1;32m      2\u001b[0m \u001b[0;32mwhile\u001b[0m \u001b[0;32mTrue\u001b[0m\u001b[0;34m:\u001b[0m\u001b[0;34m\u001b[0m\u001b[0;34m\u001b[0m\u001b[0m\n\u001b[0;32m----> 3\u001b[0;31m     \u001b[0mq\u001b[0m \u001b[0;34m=\u001b[0m \u001b[0minput\u001b[0m\u001b[0;34m(\u001b[0m\u001b[0;34m'Your prompt: '\u001b[0m\u001b[0;34m)\u001b[0m\u001b[0;34m\u001b[0m\u001b[0;34m\u001b[0m\u001b[0m\n\u001b[0m\u001b[1;32m      4\u001b[0m     \u001b[0;32mif\u001b[0m \u001b[0mq\u001b[0m\u001b[0;34m.\u001b[0m\u001b[0mlower\u001b[0m\u001b[0;34m(\u001b[0m\u001b[0;34m)\u001b[0m \u001b[0;32min\u001b[0m \u001b[0;34m[\u001b[0m\u001b[0;34m'quit'\u001b[0m\u001b[0;34m,\u001b[0m \u001b[0;34m'exit'\u001b[0m\u001b[0;34m,\u001b[0m \u001b[0;34m'bye'\u001b[0m\u001b[0;34m]\u001b[0m\u001b[0;34m:\u001b[0m\u001b[0;34m\u001b[0m\u001b[0;34m\u001b[0m\u001b[0m\n\u001b[1;32m      5\u001b[0m         \u001b[0mprint\u001b[0m\u001b[0;34m(\u001b[0m\u001b[0;34m'Quitting ... bye bye!'\u001b[0m\u001b[0;34m)\u001b[0m\u001b[0;34m\u001b[0m\u001b[0;34m\u001b[0m\u001b[0m\n",
            "\u001b[0;32m/usr/local/lib/python3.11/dist-packages/ipykernel/kernelbase.py\u001b[0m in \u001b[0;36mraw_input\u001b[0;34m(self, prompt)\u001b[0m\n\u001b[1;32m   1175\u001b[0m                 \u001b[0;34m\"raw_input was called, but this frontend does not support input requests.\"\u001b[0m\u001b[0;34m\u001b[0m\u001b[0;34m\u001b[0m\u001b[0m\n\u001b[1;32m   1176\u001b[0m             )\n\u001b[0;32m-> 1177\u001b[0;31m         return self._input_request(\n\u001b[0m\u001b[1;32m   1178\u001b[0m             \u001b[0mstr\u001b[0m\u001b[0;34m(\u001b[0m\u001b[0mprompt\u001b[0m\u001b[0;34m)\u001b[0m\u001b[0;34m,\u001b[0m\u001b[0;34m\u001b[0m\u001b[0;34m\u001b[0m\u001b[0m\n\u001b[1;32m   1179\u001b[0m             \u001b[0mself\u001b[0m\u001b[0;34m.\u001b[0m\u001b[0m_parent_ident\u001b[0m\u001b[0;34m[\u001b[0m\u001b[0;34m\"shell\"\u001b[0m\u001b[0;34m]\u001b[0m\u001b[0;34m,\u001b[0m\u001b[0;34m\u001b[0m\u001b[0;34m\u001b[0m\u001b[0m\n",
            "\u001b[0;32m/usr/local/lib/python3.11/dist-packages/ipykernel/kernelbase.py\u001b[0m in \u001b[0;36m_input_request\u001b[0;34m(self, prompt, ident, parent, password)\u001b[0m\n\u001b[1;32m   1217\u001b[0m             \u001b[0;32mexcept\u001b[0m \u001b[0mKeyboardInterrupt\u001b[0m\u001b[0;34m:\u001b[0m\u001b[0;34m\u001b[0m\u001b[0;34m\u001b[0m\u001b[0m\n\u001b[1;32m   1218\u001b[0m                 \u001b[0;31m# re-raise KeyboardInterrupt, to truncate traceback\u001b[0m\u001b[0;34m\u001b[0m\u001b[0;34m\u001b[0m\u001b[0m\n\u001b[0;32m-> 1219\u001b[0;31m                 \u001b[0;32mraise\u001b[0m \u001b[0mKeyboardInterrupt\u001b[0m\u001b[0;34m(\u001b[0m\u001b[0;34m\"Interrupted by user\"\u001b[0m\u001b[0;34m)\u001b[0m \u001b[0;32mfrom\u001b[0m \u001b[0;32mNone\u001b[0m\u001b[0;34m\u001b[0m\u001b[0;34m\u001b[0m\u001b[0m\n\u001b[0m\u001b[1;32m   1220\u001b[0m             \u001b[0;32mexcept\u001b[0m \u001b[0mException\u001b[0m\u001b[0;34m:\u001b[0m\u001b[0;34m\u001b[0m\u001b[0;34m\u001b[0m\u001b[0m\n\u001b[1;32m   1221\u001b[0m                 \u001b[0mself\u001b[0m\u001b[0;34m.\u001b[0m\u001b[0mlog\u001b[0m\u001b[0;34m.\u001b[0m\u001b[0mwarning\u001b[0m\u001b[0;34m(\u001b[0m\u001b[0;34m\"Invalid Message:\"\u001b[0m\u001b[0;34m,\u001b[0m \u001b[0mexc_info\u001b[0m\u001b[0;34m=\u001b[0m\u001b[0;32mTrue\u001b[0m\u001b[0;34m)\u001b[0m\u001b[0;34m\u001b[0m\u001b[0;34m\u001b[0m\u001b[0m\n",
            "\u001b[0;31mKeyboardInterrupt\u001b[0m: Interrupted by user"
          ]
        }
      ]
    },
    {
      "cell_type": "code",
      "source": [
        "! rm memory.db"
      ],
      "metadata": {
        "id": "aXkRVWMGARHo"
      },
      "execution_count": null,
      "outputs": []
    },
    {
      "cell_type": "markdown",
      "source": [
        "Chat history の各クラスを利用して、様々なデータベースに会話履歴を保存することができます。\n",
        "https://python.langchain.com/docs/integrations/memory/  \n",
        "(ドキュメントのタイトルは Memory ですが、記載されている内容は Chat history です)"
      ],
      "metadata": {
        "id": "tr7T448xAri9"
      }
    }
  ]
}